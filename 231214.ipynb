{
 "cells": [
  {
   "cell_type": "code",
   "execution_count": 1,
   "id": "5f3ff5dc",
   "metadata": {},
   "outputs": [
    {
     "name": "stdout",
     "output_type": "stream",
     "text": [
      "Asd\n"
     ]
    }
   ],
   "source": [
    "print(\"Asd\")"
   ]
  },
  {
   "cell_type": "code",
   "execution_count": 2,
   "id": "5b488c76",
   "metadata": {},
   "outputs": [
    {
     "data": {
      "text/plain": [
       "246.0"
      ]
     },
     "execution_count": 2,
     "metadata": {},
     "output_type": "execute_result"
    }
   ],
   "source": [
    "123+123.0"
   ]
  },
  {
   "cell_type": "code",
   "execution_count": 3,
   "id": "a6c74599",
   "metadata": {},
   "outputs": [
    {
     "data": {
      "text/plain": [
       "3"
      ]
     },
     "execution_count": 3,
     "metadata": {},
     "output_type": "execute_result"
    }
   ],
   "source": [
    "x = [1,2,3,4,5]\n",
    "x[2]"
   ]
  },
  {
   "cell_type": "code",
   "execution_count": 4,
   "id": "55c2f327",
   "metadata": {},
   "outputs": [
    {
     "data": {
      "text/plain": [
       "[1, 2, 103, 4, 5]"
      ]
     },
     "execution_count": 4,
     "metadata": {},
     "output_type": "execute_result"
    }
   ],
   "source": [
    "x[2] = x[2]+100\n",
    "x"
   ]
  },
  {
   "cell_type": "code",
   "execution_count": 5,
   "id": "2e4e4af8",
   "metadata": {},
   "outputs": [
    {
     "data": {
      "text/plain": [
       "{7, 8, 9}"
      ]
     },
     "execution_count": 5,
     "metadata": {},
     "output_type": "execute_result"
    }
   ],
   "source": [
    "set = {9,9,8,8,7,7}\n",
    "set"
   ]
  },
  {
   "cell_type": "code",
   "execution_count": 6,
   "id": "e343f14d",
   "metadata": {},
   "outputs": [
    {
     "ename": "TypeError",
     "evalue": "list indices must be integers or slices, not str",
     "output_type": "error",
     "traceback": [
      "\u001b[1;31m---------------------------------------------------------------------------\u001b[0m",
      "\u001b[1;31mTypeError\u001b[0m                                 Traceback (most recent call last)",
      "Cell \u001b[1;32mIn[6], line 1\u001b[0m\n\u001b[1;32m----> 1\u001b[0m x[\u001b[38;5;124m\"\u001b[39m\u001b[38;5;124mb\u001b[39m\u001b[38;5;124m\"\u001b[39m]\u001b[38;5;241m=\u001b[39m\u001b[38;5;241m23\u001b[39m\n\u001b[0;32m      2\u001b[0m x\n",
      "\u001b[1;31mTypeError\u001b[0m: list indices must be integers or slices, not str"
     ]
    }
   ],
   "source": [
    "x[\"b\"]=23\n",
    "x"
   ]
  },
  {
   "cell_type": "code",
   "execution_count": 7,
   "id": "6ee9efed",
   "metadata": {},
   "outputs": [
    {
     "data": {
      "text/plain": [
       "[1, 2, 103, 4, 5]"
      ]
     },
     "execution_count": 7,
     "metadata": {},
     "output_type": "execute_result"
    }
   ],
   "source": [
    "x\n"
   ]
  },
  {
   "cell_type": "code",
   "execution_count": null,
   "id": "7261fd83",
   "metadata": {},
   "outputs": [],
   "source": [
    "x=[1,2,3,4,5]+[1,2,3]\n",
    "x*3"
   ]
  },
  {
   "cell_type": "code",
   "execution_count": null,
   "id": "23974d9d",
   "metadata": {},
   "outputs": [],
   "source": [
    "x = 123\n"
   ]
  },
  {
   "cell_type": "code",
   "execution_count": null,
   "id": "4e2b7e26",
   "metadata": {},
   "outputs": [],
   "source": [
    "x= 456"
   ]
  },
  {
   "cell_type": "code",
   "execution_count": null,
   "id": "4f9d2485",
   "metadata": {},
   "outputs": [],
   "source": [
    "x= x+10"
   ]
  },
  {
   "cell_type": "code",
   "execution_count": null,
   "id": "8c89a6ed",
   "metadata": {},
   "outputs": [],
   "source": [
    "\n",
    "print(x)"
   ]
  },
  {
   "cell_type": "code",
   "execution_count": null,
   "id": "14dc1250",
   "metadata": {},
   "outputs": [],
   "source": [
    "x=[1,2,3,4,5,6,7,8,9]\n",
    "x[5]+= 10\n",
    "print(x[5])"
   ]
  },
  {
   "cell_type": "code",
   "execution_count": null,
   "id": "65d71c42",
   "metadata": {},
   "outputs": [],
   "source": [
    "y=(1,2,3,4,5,6,7,8,9)\n",
    "y[5] += 10"
   ]
  },
  {
   "cell_type": "code",
   "execution_count": null,
   "id": "fd96826e",
   "metadata": {},
   "outputs": [],
   "source": [
    "print(\"adgdg\",end = \"QQQQQ\")"
   ]
  },
  {
   "cell_type": "code",
   "execution_count": null,
   "id": "579ec241",
   "metadata": {},
   "outputs": [],
   "source": [
    "input(\"숫자를 하나 적어주세요:\")"
   ]
  },
  {
   "cell_type": "code",
   "execution_count": null,
   "id": "45e2831a",
   "metadata": {},
   "outputs": [],
   "source": [
    "\"이것은 문자열입니다\".split(\"열\")\n"
   ]
  },
  {
   "cell_type": "code",
   "execution_count": null,
   "id": "4f19955e",
   "metadata": {},
   "outputs": [],
   "source": [
    "''.join(['이것은','입니다'])"
   ]
  },
  {
   "cell_type": "code",
   "execution_count": null,
   "id": "fb6e761a",
   "metadata": {},
   "outputs": [],
   "source": [
    "\"이이이이이이것은 문자열입니다\".strip(\"이다\")"
   ]
  },
  {
   "cell_type": "code",
   "execution_count": null,
   "id": "40f2e7d0",
   "metadata": {},
   "outputs": [],
   "source": [
    "x=\"이것은 문자열입니다\".replace(\"문자열\",\"\")\n",
    "x\n"
   ]
  },
  {
   "cell_type": "code",
   "execution_count": null,
   "id": "28fa2cb0",
   "metadata": {},
   "outputs": [],
   "source": [
    "\"이것은 문자열입니다\".split(\" \")# ->\"이것은\",\"입니다\""
   ]
  },
  {
   "cell_type": "code",
   "execution_count": null,
   "id": "4f5418df",
   "metadata": {},
   "outputs": [],
   "source": [
    "18615\"이이이이이이것은 문자열입니다\".strip(\"것이다니입열것자\")#->\"것은 문자열입니\""
   ]
  },
  {
   "cell_type": "code",
   "execution_count": null,
   "id": "04e0c385",
   "metadata": {},
   "outputs": [],
   "source": [
    "hello = \"hello,\"\n",
    "python = \"python\"\n",
    "print(hello,python)"
   ]
  },
  {
   "cell_type": "code",
   "execution_count": null,
   "id": "55685a18",
   "metadata": {},
   "outputs": [],
   "source": [
    "print(\"hello, python\")"
   ]
  },
  {
   "cell_type": "code",
   "execution_count": null,
   "id": "5373a91b",
   "metadata": {},
   "outputs": [],
   "source": [
    "\n",
    "try:\n",
    "    123/1=x\n",
    "    123/0\n",
    "    123/2 = y\n",
    "    \n",
    "except:\n",
    "    print(\"0으로 나눴어요\")\n",
    "    \n",
    "\n",
    "    "
   ]
  },
  {
   "cell_type": "code",
   "execution_count": null,
   "id": "7a2c7a34",
   "metadata": {},
   "outputs": [],
   "source": [
    "x = int(input(\"숫자 하나를 입력해주세요:\"))\n",
    "\n",
    "try:\n",
    "    print(123/x)\n",
    "except:\n",
    "    print(123/0.0000001)"
   ]
  },
  {
   "cell_type": "code",
   "execution_count": null,
   "id": "d5152062",
   "metadata": {},
   "outputs": [],
   "source": [
    "import re\n",
    "re.sub(\"[0-9]\",\"*\",\"안녕123나는456잎싹이야789\")#sub는 문자열 3개 입력받는다.\n",
    "re.sub(\"4\\d\\d\\d\\d\\d\\d\",\"4******\",\"001122-4123467\")"
   ]
  },
  {
   "cell_type": "code",
   "execution_count": null,
   "id": "7282a491",
   "metadata": {},
   "outputs": [],
   "source": [
    "password = \"비밀번호는 다음과 같습니다 = password123!\"\n",
    "re.sub('[가-힣= ]','',password)"
   ]
  },
  {
   "cell_type": "code",
   "execution_count": null,
   "id": "0268efbe",
   "metadata": {},
   "outputs": [],
   "source": [
    "re.sub('[가-힣= ]','',password)"
   ]
  },
  {
   "cell_type": "code",
   "execution_count": null,
   "id": "00c0948a",
   "metadata": {},
   "outputs": [],
   "source": [
    "re.sub(\"\\d+\",\"123456\",str2)"
   ]
  },
  {
   "cell_type": "code",
   "execution_count": null,
   "id": "584e6287",
   "metadata": {},
   "outputs": [],
   "source": [
    "#str1의 숫자를 123456으로 바꾸자\n",
    "str1 = \"hello~000000python\"\n",
    "#str2의 숫자를 123456으로 바꾸자\n",
    "str2 = \"hello~123456python\"\n",
    "#str3의 XXX를 리스트로 리턴하자 단X는 임의의 숫자이다\n",
    "str3 = \"hello~643-444python\"\n",
    "\n",
    "\n"
   ]
  },
  {
   "cell_type": "code",
   "execution_count": null,
   "id": "1adb0ff4",
   "metadata": {},
   "outputs": [],
   "source": [
    "re.sub(\"000000\",\"123456\",str1)#문제 1번\n",
    "#강사님 풀이\n",
    "#str1.replace('000000','123456')\n",
    "#+내가 푼 풀이\n",
    "#+re.sub('\\d\\d\\d\\d\\d\\','123456',str1)\n",
    "#+re.sub('\\d+','123456',str1)\n",
    "\n"
   ]
  },
  {
   "cell_type": "code",
   "execution_count": null,
   "id": "7a6ba67e",
   "metadata": {},
   "outputs": [],
   "source": [
    "#re.sub(\"[0-9][0]\",\"123456\",str2)#문제 2번\n",
    "#강사님풀이\n",
    "#re.sub('\\d+','123456',str1)\n",
    "re.sub('\\d+',\"123456\",str2)"
   ]
  },
  {
   "cell_type": "code",
   "execution_count": null,
   "id": "4cdab7d6",
   "metadata": {},
   "outputs": [],
   "source": [
    "# str3 = \"hello~456-987python\"\n",
    "# x=re.sub(\"[a-z~]\",\"\",str3)\n",
    "# x\n",
    "# x.split(\"-\")#문제 3번\n",
    "#findall이 더 현명한 방법같음\n",
    "\n",
    "\n",
    "re.findall(\"\\d\\d\\d\",str3)"
   ]
  },
  {
   "cell_type": "code",
   "execution_count": null,
   "id": "a4b8b7bf",
   "metadata": {},
   "outputs": [],
   "source": [
    "re.match('H', 'HELLO123&&*')"
   ]
  },
  {
   "cell_type": "code",
   "execution_count": null,
   "id": "5d3b762d",
   "metadata": {},
   "outputs": [],
   "source": []
  },
  {
   "cell_type": "code",
   "execution_count": null,
   "id": "a6a56272",
   "metadata": {},
   "outputs": [],
   "source": []
  },
  {
   "cell_type": "code",
   "execution_count": null,
   "id": "b02e0304",
   "metadata": {},
   "outputs": [],
   "source": [
    "import re\n",
    "\n",
    "# 대상 문자열\n",
    "txt = '파이썬오늘은\\t문자열을\\t배웠고,\\t그\\t지식을\\t이용해서\\t문자열\\t수정을\\t해\\t봅시다.\\n파이썬'\n",
    "\n",
    "# 한글 추출\n",
    "korean_text = re.sub('[^가-힣]', '', txt)\n",
    "\n",
    "# 콤마(,)를 기준으로 줄바꿈\n",
    "formatted_text = re.sub('(?<=\\S),', ',%\\n', korean_text)\n",
    "\n",
    "# '파이썬' 제거\n",
    "txt3 = txt.replace('파이썬', '')\n",
    "\n",
    "# 결과 출력\n",
    "print(formatted_text)\n",
    "print(txt3)\n"
   ]
  },
  {
   "cell_type": "markdown",
   "id": "c2732d5e",
   "metadata": {},
   "source": [
    "Version 1\n"
   ]
  },
  {
   "cell_type": "code",
   "execution_count": null,
   "id": "97b1eaff",
   "metadata": {},
   "outputs": [],
   "source": [
    "str3"
   ]
  },
  {
   "cell_type": "code",
   "execution_count": null,
   "id": "e2799a65",
   "metadata": {},
   "outputs": [],
   "source": [
    "txt =\"파이썬오늘은\\t문자열을\\t배웠고,\\t그\\t지식을\\t이용해서\\t문자열\\t수정을\\t해\\t봅시다.\\n파이썬\"\n",
    "#1모든 한글을 추출한다.\n",
    "txt = re.sub(\"[a-zA-Z\\t\\n]\",\"\",txt)\n",
    "txt\n",
    "#2콤마를 기준으로 줄바꿈을 해본다\n",
    "txt=txt.replace(\",\",\",\\n\")\n",
    "#print(txt)\n",
    "#3\"파이썬\"이라는 글자를 지우고 txt3에 저장한다\n",
    "txt3 = txt.split(\"파이썬\")[1]\n",
    "#출력 예시와 같이 출력한다\n",
    "print(txt3)"
   ]
  },
  {
   "cell_type": "markdown",
   "id": "9957c981",
   "metadata": {},
   "source": [
    "Version 2"
   ]
  },
  {
   "cell_type": "code",
   "execution_count": null,
   "id": "9832d378",
   "metadata": {},
   "outputs": [],
   "source": [
    "txt =\"파이썬오늘은\\t문자열을\\t배웠고,\\t그\\t지식을\\t이용해서\\t문자열\\t수정을\\t해\\t봅시다.\\n파이썬\"\n",
    "txt = re.sub(\"[a-zA-Z]\",\"\",txt)\n",
    "#print(txt)\n",
    "txt=txt.replace(\",\",\",\\n\")\n",
    "#print(txt)\n",
    "txt3 = txt.split(\"파이썬\")[1]\n",
    "print(txt3)"
   ]
  },
  {
   "cell_type": "markdown",
   "id": "3b63905f",
   "metadata": {},
   "source": [
    "#만약 파이썬이라는 글자를 txt3에 넣는거면"
   ]
  },
  {
   "cell_type": "code",
   "execution_count": null,
   "id": "81001d4a",
   "metadata": {},
   "outputs": [],
   "source": [
    "txt3 = []\n",
    "a=\"파이썬\"\n",
    "txt3.append(a)\n",
    "txt3"
   ]
  },
  {
   "cell_type": "code",
   "execution_count": null,
   "id": "502cada1",
   "metadata": {},
   "outputs": [],
   "source": [
    "a=\"02-123-4567\"\n",
    "b='010-6543-9876'\n",
    "c='02-4567-7890'\n",
    "d='+82-10-6655-4433'\n",
    "e = \"저희 집 전화번호는 02-4567-7890입니다.\""
   ]
  },
  {
   "cell_type": "code",
   "execution_count": null,
   "id": "d15b963d",
   "metadata": {},
   "outputs": [],
   "source": [
    "a.split(\"-\")[0]+a.split(\"-\")[1]+a.split(\"-\")[2]"
   ]
  },
  {
   "cell_type": "code",
   "execution_count": null,
   "id": "258626ce",
   "metadata": {},
   "outputs": [],
   "source": [
    "re.findall(\"\\d+\",a)[0]+re.findall(\"\\d+\",a)[1]+re.findall(\"\\d+\",a)[2]"
   ]
  },
  {
   "cell_type": "code",
   "execution_count": null,
   "id": "793af035",
   "metadata": {},
   "outputs": [],
   "source": [
    "re.sub(\"[가-힣. -]\",\"\",e)\n",
    "re.sub(\"WD\",\"\",e)\n"
   ]
  },
  {
   "cell_type": "code",
   "execution_count": null,
   "id": "bdad0b0b",
   "metadata": {},
   "outputs": [],
   "source": [
    "y=re.sub('\\+\\d+-','0','+82-10-6655-4433')\n",
    "z=re.sub(\"\\D\",\"\",y)\n",
    "z"
   ]
  },
  {
   "cell_type": "code",
   "execution_count": null,
   "id": "bf4bfad4",
   "metadata": {},
   "outputs": [],
   "source": [
    "\"rabbit and banana\".split('and')"
   ]
  },
  {
   "cell_type": "code",
   "execution_count": null,
   "id": "78fe5472",
   "metadata": {},
   "outputs": [],
   "source": [
    "'xoxoxoHELLOxoxoxo'.rstrip('xo')"
   ]
  },
  {
   "cell_type": "code",
   "execution_count": null,
   "id": "fb7519fb",
   "metadata": {},
   "outputs": [],
   "source": [
    "'red apple'.replace('red',\n",
    "'green')"
   ]
  },
  {
   "cell_type": "code",
   "execution_count": null,
   "id": "0a8472f5",
   "metadata": {},
   "outputs": [],
   "source": [
    "set = {9,9,8,8,7,7}\n",
    "set"
   ]
  },
  {
   "cell_type": "code",
   "execution_count": null,
   "id": "9004fa2e",
   "metadata": {},
   "outputs": [],
   "source": [
    "\"이것은 문자열입니다\".split(\"문자열\")"
   ]
  },
  {
   "cell_type": "code",
   "execution_count": null,
   "id": "4b431200",
   "metadata": {},
   "outputs": [],
   "source": [
    "'문자열'.join(['이것은','입니다'])"
   ]
  },
  {
   "cell_type": "code",
   "execution_count": null,
   "id": "483680a6",
   "metadata": {},
   "outputs": [],
   "source": [
    "try:\n",
    "    # 사용자로부터 두 개의 숫자 입력받기\n",
    "    num1 = float(input(\"첫 번째 숫자를 입력하세요: \"))\n",
    "    num2 = float(input(\"두 번째 숫자를 입력하세요: \"))\n",
    "\n",
    "    # 숫자 덧셈 계산\n",
    "    result = num1 + num2\n",
    "\n",
    "    # 결과 출력\n",
    "    print(f\"두 숫자의 합: {result}\")\n",
    "\n",
    "except ValueError:\n",
    "    print(\"숫자를 입력해주세요. 다시 실행해주세요.\")\n",
    "\n",
    "except Exception as e:\n",
    "    print(f\"오류 발생: {e}\")\n"
   ]
  },
  {
   "cell_type": "code",
   "execution_count": 14,
   "id": "32ad55d4",
   "metadata": {},
   "outputs": [
    {
     "name": "stdout",
     "output_type": "stream",
     "text": [
      "division by zero\n"
     ]
    }
   ],
   "source": [
    "try:\n",
    "    4 / 0\n",
    "except ZeroDivisionError as e:\n",
    "    print(e)\n",
    "except:\n",
    "    print(\"nono\")"
   ]
  },
  {
   "cell_type": "code",
   "execution_count": 16,
   "id": "b0f88dab",
   "metadata": {},
   "outputs": [
    {
     "name": "stdout",
     "output_type": "stream",
     "text": [
      "숫자 하나를 입력해주세요:s\n"
     ]
    },
    {
     "ename": "ValueError",
     "evalue": "invalid literal for int() with base 10: 's'",
     "output_type": "error",
     "traceback": [
      "\u001b[1;31m---------------------------------------------------------------------------\u001b[0m",
      "\u001b[1;31mValueError\u001b[0m                                Traceback (most recent call last)",
      "Cell \u001b[1;32mIn[16], line 1\u001b[0m\n\u001b[1;32m----> 1\u001b[0m x \u001b[38;5;241m=\u001b[39m \u001b[38;5;28mint\u001b[39m(\u001b[38;5;28minput\u001b[39m(\u001b[38;5;124m\"\u001b[39m\u001b[38;5;124m숫자 하나를 입력해주세요:\u001b[39m\u001b[38;5;124m\"\u001b[39m))\n\u001b[0;32m      3\u001b[0m \u001b[38;5;28;01mtry\u001b[39;00m:\n\u001b[0;32m      4\u001b[0m     \u001b[38;5;28mprint\u001b[39m(\u001b[38;5;241m123\u001b[39m\u001b[38;5;241m/\u001b[39mx)\n",
      "\u001b[1;31mValueError\u001b[0m: invalid literal for int() with base 10: 's'"
     ]
    }
   ],
   "source": [
    "x = int(input(\"숫자 하나를 입력해주세요:\"))\n",
    "\n",
    "try:\n",
    "    print(123/x)\n",
    "except:\n",
    "    print(123/0.0000001)\n"
   ]
  },
  {
   "cell_type": "code",
   "execution_count": null,
   "id": "77097d1e",
   "metadata": {},
   "outputs": [],
   "source": []
  }
 ],
 "metadata": {
  "kernelspec": {
   "display_name": "Python 3 (ipykernel)",
   "language": "python",
   "name": "python3"
  },
  "language_info": {
   "codemirror_mode": {
    "name": "ipython",
    "version": 3
   },
   "file_extension": ".py",
   "mimetype": "text/x-python",
   "name": "python",
   "nbconvert_exporter": "python",
   "pygments_lexer": "ipython3",
   "version": "3.11.5"
  }
 },
 "nbformat": 4,
 "nbformat_minor": 5
}
